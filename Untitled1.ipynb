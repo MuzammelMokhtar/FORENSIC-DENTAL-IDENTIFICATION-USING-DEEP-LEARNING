{
  "nbformat": 4,
  "nbformat_minor": 0,
  "metadata": {
    "colab": {
      "name": "Untitled1.ipynb",
      "provenance": [],
      "authorship_tag": "ABX9TyPaIJxXLoQuBRPMKaSwbEgA",
      "include_colab_link": true
    },
    "kernelspec": {
      "name": "python3",
      "display_name": "Python 3"
    },
    "language_info": {
      "name": "python"
    }
  },
  "cells": [
    {
      "cell_type": "markdown",
      "metadata": {
        "id": "view-in-github",
        "colab_type": "text"
      },
      "source": [
        "<a href=\"https://colab.research.google.com/github/MuzammelMokhtar/FORENSIC-DENTAL-IDENTIFICATION-USING-DEEP-LEARNING/blob/main/Untitled1.ipynb\" target=\"_parent\"><img src=\"https://colab.research.google.com/assets/colab-badge.svg\" alt=\"Open In Colab\"/></a>"
      ]
    },
    {
      "cell_type": "markdown",
      "source": [
        "**Mount Google Drive for storing project code**"
      ],
      "metadata": {
        "id": "orYI2ykzYSlJ"
      }
    },
    {
      "cell_type": "code",
      "execution_count": null,
      "metadata": {
        "id": "Z0uUAlSgXmXw"
      },
      "outputs": [],
      "source": [
        "from google.colab import drive\n",
        "drive.mount('/content/gdrive')"
      ]
    },
    {
      "cell_type": "markdown",
      "source": [
        "**Shortcut to go to the content of My Drive**"
      ],
      "metadata": {
        "id": "pBBJckCBZbsI"
      }
    },
    {
      "cell_type": "code",
      "source": [
        "!ln -s /content/gdrive/My\\ Drive/ /mydrive"
      ],
      "metadata": {
        "id": "bARuGf4lXnmx"
      },
      "execution_count": null,
      "outputs": []
    },
    {
      "cell_type": "markdown",
      "source": [
        "**Change Directory to YOLOv4 folder**"
      ],
      "metadata": {
        "id": "YU9LnbuqZqCe"
      }
    },
    {
      "cell_type": "code",
      "source": [
        "%cd /mydrive/YOLOv4"
      ],
      "metadata": {
        "id": "Uc03dsJiXpfI"
      },
      "execution_count": null,
      "outputs": []
    },
    {
      "cell_type": "markdown",
      "source": [
        "**Download darknet using git clone**"
      ],
      "metadata": {
        "id": "XbGZCSoRZxon"
      }
    },
    {
      "cell_type": "code",
      "source": [
        "!git clone https://github.com/AlexeyAB/darknet"
      ],
      "metadata": {
        "id": "spXjVC_RXqsP"
      },
      "execution_count": null,
      "outputs": []
    },
    {
      "cell_type": "markdown",
      "source": [
        "**Edit darknet makefile content**"
      ],
      "metadata": {
        "id": "SqShar69Z40l"
      }
    },
    {
      "cell_type": "code",
      "source": [
        "%cd darknet/\n",
        "!sed -i 's/OPENCV=0/OPENCV=1/' Makefile\n",
        "!sed -i 's/GPU=0/GPU=1/' Makefile\n",
        "!sed -i 's/CUDNN=0/CUDNN=1/' Makefile\n",
        "!sed -i 's/CUDNN_HALF=0/CUDNN_HALF=1/' Makefile\n",
        "!sed -i 's/LIBSO=0/LIBSO=1/' Makefile"
      ],
      "metadata": {
        "id": "Kh4FcdlEXrzv"
      },
      "execution_count": null,
      "outputs": []
    },
    {
      "cell_type": "markdown",
      "source": [
        "**Run a makefile, update it**"
      ],
      "metadata": {
        "id": "gtimrimyaCUU"
      }
    },
    {
      "cell_type": "code",
      "source": [
        "!make"
      ],
      "metadata": {
        "id": "ESZNW8jGXs_y"
      },
      "execution_count": null,
      "outputs": []
    },
    {
      "cell_type": "markdown",
      "source": [
        "**List the content of data folder**"
      ],
      "metadata": {
        "id": "4EOQHNXFaKhp"
      }
    },
    {
      "cell_type": "code",
      "source": [
        "!ls data/"
      ],
      "metadata": {
        "id": "pVODLNl6XvT9"
      },
      "execution_count": null,
      "outputs": []
    },
    {
      "cell_type": "markdown",
      "source": [
        "**Downloda YOLOv4 weights**"
      ],
      "metadata": {
        "id": "8GksQUY8aPJz"
      }
    },
    {
      "cell_type": "code",
      "source": [
        "!wget https://github.com/AlexeyAB/darknet/releases/download/darknet_yolo_v3_optimal/yolov4.conv.137"
      ],
      "metadata": {
        "id": "hQhBDY8jXwjv"
      },
      "execution_count": null,
      "outputs": []
    },
    {
      "cell_type": "markdown",
      "source": [
        "**Changing the permission for darknet folder**"
      ],
      "metadata": {
        "id": "JUG7MGBMaXjs"
      }
    },
    {
      "cell_type": "code",
      "source": [
        "!chmod +x ./darknet"
      ],
      "metadata": {
        "id": "D0WJVb2oXyyj"
      },
      "execution_count": null,
      "outputs": []
    },
    {
      "cell_type": "markdown",
      "source": [
        "**Execute the model training process**"
      ],
      "metadata": {
        "id": "cClvTqeCafR9"
      }
    },
    {
      "cell_type": "code",
      "source": [
        "!./darknet detector train data/images.data cfg/yolov4-custom.cfg yolov4.conv.137 -dont_show -map"
      ],
      "metadata": {
        "id": "2tGgmeOOX1cw"
      },
      "execution_count": null,
      "outputs": []
    },
    {
      "cell_type": "markdown",
      "source": [
        "**Checking the mAP and other training statistics**"
      ],
      "metadata": {
        "id": "RCXQDiYIaprB"
      }
    },
    {
      "cell_type": "code",
      "source": [
        "!./darknet detector map data/images.data cfg/yolov4-custom.cfg /mydrive/YOLOv4/darknet/backup/yolov4-custom_best.weights -points 0"
      ],
      "metadata": {
        "id": "pZbbc4wfX5nO"
      },
      "execution_count": null,
      "outputs": []
    },
    {
      "cell_type": "markdown",
      "source": [
        "**Make changes to the cfg file for testing the data**"
      ],
      "metadata": {
        "id": "o5S9NPgga20e"
      }
    },
    {
      "cell_type": "code",
      "source": [
        "%cd cfg\n",
        "!sed -i 's/batch=64/batch=1/' yolov4-custom.cfg\n",
        "!sed -i 's/subdivisions=16/subdivisions=1/' yolov4-custom.cfg\n",
        "%cd .."
      ],
      "metadata": {
        "id": "ETE5erF8X6K7"
      },
      "execution_count": null,
      "outputs": []
    },
    {
      "cell_type": "markdown",
      "source": [
        "**Define helper function for plotting a prediction figure **"
      ],
      "metadata": {
        "id": "rgHQ4m0aa9Ug"
      }
    },
    {
      "cell_type": "code",
      "source": [
        "# define helper functions\n",
        "def imShow(path):\n",
        "  import cv2\n",
        "  import matplotlib.pyplot as plt\n",
        "  %matplotlib inline\n",
        "\n",
        "  image = cv2.imread(path)\n",
        "  height, width = image.shape[:2]\n",
        "  resized_image = cv2.resize(image,(3*width, 3*height), interpolation = cv2.INTER_CUBIC)\n",
        "\n",
        "  fig = plt.gcf()\n",
        "  fig.set_size_inches(18, 10)\n",
        "  plt.axis(\"off\")\n",
        "  plt.imshow(cv2.cvtColor(resized_image, cv2.COLOR_BGR2RGB))\n",
        "  plt.show()\n",
        "\n",
        "# use this to upload files\n",
        "def upload():\n",
        "  from google.colab import files\n",
        "  uploaded = files.upload() \n",
        "  for name, data in uploaded.items():\n",
        "    with open(name, 'wb') as f:\n",
        "      f.write(data)\n",
        "      print ('saved file', name)\n",
        "\n",
        "# use this to download a file  \n",
        "def download(path):\n",
        "  from google.colab import files\n",
        "  files.download(path)"
      ],
      "metadata": {
        "id": "rtEAbk_SX_nV"
      },
      "execution_count": null,
      "outputs": []
    },
    {
      "cell_type": "markdown",
      "source": [
        "**Testing the model using the test dataset**"
      ],
      "metadata": {
        "id": "vtnerMxCbGZq"
      }
    },
    {
      "cell_type": "code",
      "source": [
        "!./darknet detector test data/images.data cfg/yolov4-custom.cfg /mydrive/YOLOv4/darknet/backup/yolov4-custom_best.weights /mydrive/YOLOv4/darknet/all_test_images/112t_1_3_9911.jpg 0.3 -dont_show -map\n",
        "imShow('predictions.jpg')"
      ],
      "metadata": {
        "id": "M-HMStqMYDG1"
      },
      "execution_count": null,
      "outputs": []
    }
  ]
}